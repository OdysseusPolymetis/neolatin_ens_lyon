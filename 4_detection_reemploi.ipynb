{
 "cells": [
  {
   "cell_type": "markdown",
   "metadata": {},
   "source": [
    "# Latin"
   ]
  },
  {
   "cell_type": "code",
   "execution_count": 1,
   "metadata": {},
   "outputs": [],
   "source": [
    "# On va voir le De Divinatione de Cicéron. Regardez dans votre dossier CLTK_data, vous en avez une tonne (en txt).\n",
    "\n",
    "import os\n",
    "\n",
    "div1_fp = os.path.expanduser('~/cltk_data/latin/text/latin_text_latin_library/cicero/divinatione1.txt')\n",
    "div2_fp = os.path.expanduser('~/cltk_data/latin/text/latin_text_latin_library/cicero/divinatione2.txt')"
   ]
  },
  {
   "cell_type": "code",
   "execution_count": 2,
   "metadata": {},
   "outputs": [],
   "source": [
    "with open(div1_fp, encoding = 'utf8') as fo:\n",
    "    div1 = fo.read()\n",
    "\n",
    "with open(div2_fp, encoding = 'utf8') as fo:\n",
    "    div2 = fo.read()"
   ]
  },
  {
   "cell_type": "code",
   "execution_count": 3,
   "metadata": {},
   "outputs": [
    {
     "data": {
      "text/plain": [
       "'126 127 128 129 130 131 132 \\n \\n\\n \\n\\n\\n \\nI 1 Vetus opinio est iam usque ab heroicis ducta temporibus, eaque et populi Romani et omnium gentium firmata consensu, versari quandam inter homines divinationem, quam Graeci mantikh/n appellant, id est praesensionem et scientiam rerum futurarum. Magnifica quaedam res et salutaris, si modo est ulla, quaque proxime ad deorum vim natura mortalis possit accedere. Itaque ut alia nos melius multa quam Graeci, sic huic praestantissimae rei nomen nostri a divis, Graeci, ut Plato interpretatur, a furore duxerunt. 2 Gentem quidem nullam video neque tam humanam atque doctam neque tam immanem tamque barbaram, quae non significari futura et a quibusdam intellegi praedicique posse censeat. Principio Assyrii, ut ab ultimis auctoritatem repetam, propter planitiam magnitudinemque regionum quas incolebant, cum caelum ex omni parte patens atque apertum intuerentur, traiectiones motusque stellarum observitaverunt, quibus notati, quid cuique significaretur memoriae p'"
      ]
     },
     "execution_count": 3,
     "metadata": {},
     "output_type": "execute_result"
    }
   ],
   "source": [
    "div1[500:1500]"
   ]
  },
  {
   "cell_type": "code",
   "execution_count": 4,
   "metadata": {},
   "outputs": [],
   "source": [
    "# On va calculer la distance de Levenshtein\n",
    "\n",
    "from cltk.text_reuse.levenshtein import Levenshtein"
   ]
  },
  {
   "cell_type": "code",
   "execution_count": 8,
   "metadata": {},
   "outputs": [
    {
     "data": {
      "text/plain": [
       "0.02"
      ]
     },
     "execution_count": 8,
     "metadata": {},
     "output_type": "execute_result"
    }
   ],
   "source": [
    "lev_dist = Levenshtein()\n",
    "lev_dist.ratio(div1, div2)"
   ]
  },
  {
   "cell_type": "code",
   "execution_count": 10,
   "metadata": {},
   "outputs": [
    {
     "name": "stdout",
     "output_type": "stream",
     "text": [
      "multa quoque et bello passus\n"
     ]
    }
   ],
   "source": [
    "# On va trouver la string commune la plus longue (et ça peut prendre du temps à calculer)\n",
    "\n",
    "from cltk.text_reuse.comparison import long_substring\n",
    "\n",
    "# Aen 1.1-6\n",
    "aen = open(\"./texts/aeneid.txt\").read()\n",
    "\n",
    "# Servius 1.1\n",
    "serv = open(\"./texts/servius.txt\").read()\n",
    "\n",
    "print(long_substring(aen, serv))"
   ]
  },
  {
   "cell_type": "code",
   "execution_count": 11,
   "metadata": {},
   "outputs": [
    {
     "name": "stdout",
     "output_type": "stream",
     "text": [
      "0.6722231672053071\n"
     ]
    }
   ],
   "source": [
    "from cltk.text_reuse.comparison import minhash\n",
    "\n",
    "print(minhash(div1,div2))"
   ]
  },
  {
   "cell_type": "code",
   "execution_count": 12,
   "metadata": {},
   "outputs": [
    {
     "name": "stdout",
     "output_type": "stream",
     "text": [
      "0.4780189959294437\n"
     ]
    }
   ],
   "source": [
    "# On va essayer avec d'autres auteurs, avec Apulée\n",
    "\n",
    "ap_fp = os.path.expanduser('~/cltk_data/latin/text/latin_text_latin_library/apuleius/apuleius.apol.txt')\n",
    "\n",
    "with open(ap_fp, encoding = 'utf8') as fo:\n",
    "    ap = fo.read()\n",
    "\n",
    "print(minhash(ap, div1))"
   ]
  },
  {
   "cell_type": "markdown",
   "metadata": {},
   "source": [
    "# Grec"
   ]
  },
  {
   "cell_type": "markdown",
   "metadata": {},
   "source": [
    "Ici nous avons recours à du Plutarque"
   ]
  },
  {
   "cell_type": "code",
   "execution_count": 13,
   "metadata": {},
   "outputs": [
    {
     "ename": "FileNotFoundError",
     "evalue": "[Errno 2] No such file or directory: '/home/mrebou01/cltk_data/greek/text/greek_text_lacus_curtius/plain/Plutarch/De_esu_carnium/1.txt'",
     "output_type": "error",
     "traceback": [
      "\u001b[0;31m---------------------------------------------------------------------------\u001b[0m",
      "\u001b[0;31mFileNotFoundError\u001b[0m                         Traceback (most recent call last)",
      "\u001b[0;32m<ipython-input-13-f84155620e86>\u001b[0m in \u001b[0;36m<module>\u001b[0;34m\u001b[0m\n\u001b[1;32m      4\u001b[0m \u001b[0mcarn2_fp\u001b[0m \u001b[0;34m=\u001b[0m \u001b[0mos\u001b[0m\u001b[0;34m.\u001b[0m\u001b[0mpath\u001b[0m\u001b[0;34m.\u001b[0m\u001b[0mexpanduser\u001b[0m\u001b[0;34m(\u001b[0m\u001b[0;34m'~/cltk_data/greek/text/greek_text_lacus_curtius/plain/Plutarch/De_esu_carnium/2.txt'\u001b[0m\u001b[0;34m)\u001b[0m\u001b[0;34m\u001b[0m\u001b[0;34m\u001b[0m\u001b[0m\n\u001b[1;32m      5\u001b[0m \u001b[0;34m\u001b[0m\u001b[0m\n\u001b[0;32m----> 6\u001b[0;31m \u001b[0;32mwith\u001b[0m \u001b[0mopen\u001b[0m\u001b[0;34m(\u001b[0m\u001b[0mcarn1_fp\u001b[0m\u001b[0;34m,\u001b[0m \u001b[0mencoding\u001b[0m\u001b[0;34m=\u001b[0m\u001b[0;34m\"utf8\"\u001b[0m\u001b[0;34m)\u001b[0m \u001b[0;32mas\u001b[0m \u001b[0mfo\u001b[0m\u001b[0;34m:\u001b[0m\u001b[0;34m\u001b[0m\u001b[0;34m\u001b[0m\u001b[0m\n\u001b[0m\u001b[1;32m      7\u001b[0m     \u001b[0mcarn1\u001b[0m \u001b[0;34m=\u001b[0m \u001b[0mfo\u001b[0m\u001b[0;34m.\u001b[0m\u001b[0mread\u001b[0m\u001b[0;34m(\u001b[0m\u001b[0;34m)\u001b[0m\u001b[0;34m\u001b[0m\u001b[0;34m\u001b[0m\u001b[0m\n\u001b[1;32m      8\u001b[0m \u001b[0;34m\u001b[0m\u001b[0m\n",
      "\u001b[0;31mFileNotFoundError\u001b[0m: [Errno 2] No such file or directory: '/home/mrebou01/cltk_data/greek/text/greek_text_lacus_curtius/plain/Plutarch/De_esu_carnium/1.txt'"
     ]
    }
   ],
   "source": [
    "import os\n",
    "\n",
    "carn1_fp = os.path.expanduser('~/cltk_data/greek/text/greek_text_lacus_curtius/plain/Plutarch/De_esu_carnium/1.txt')\n",
    "carn2_fp = os.path.expanduser('~/cltk_data/greek/text/greek_text_lacus_curtius/plain/Plutarch/De_esu_carnium/2.txt')\n",
    "\n",
    "with open(carn1_fp, encoding=\"utf8\") as fo:\n",
    "    carn1 = fo.read()\n",
    "\n",
    "with open(carn2_fp, encoding=\"utf8\") as fo:\n",
    "    carn2 = fo.read()\n",
    "\n",
    "carn1[908:2001]"
   ]
  },
  {
   "cell_type": "code",
   "execution_count": 12,
   "metadata": {},
   "outputs": [
    {
     "data": {
      "text/plain": [
       "0.46"
      ]
     },
     "execution_count": 12,
     "metadata": {},
     "output_type": "execute_result"
    }
   ],
   "source": [
    "from cltk.text_reuse.levenshtein import Levenshtein\n",
    "lev_dist = Levenshtein()\n",
    "lev_dist.ratio(carn1, carn2)"
   ]
  },
  {
   "cell_type": "code",
   "execution_count": 13,
   "metadata": {},
   "outputs": [
    {
     "name": "stdout",
     "output_type": "stream",
     "text": [
      "0.43631915182819087\n"
     ]
    }
   ],
   "source": [
    "from cltk.text_reuse.comparison import minhash\n",
    "print(minhash(carn1,carn2))"
   ]
  },
  {
   "cell_type": "code",
   "execution_count": null,
   "metadata": {},
   "outputs": [],
   "source": []
  }
 ],
 "metadata": {
  "kernelspec": {
   "display_name": "Python 3",
   "language": "python",
   "name": "python3"
  },
  "language_info": {
   "codemirror_mode": {
    "name": "ipython",
    "version": 3
   },
   "file_extension": ".py",
   "mimetype": "text/x-python",
   "name": "python",
   "nbconvert_exporter": "python",
   "pygments_lexer": "ipython3",
   "version": "3.7.6"
  }
 },
 "nbformat": 4,
 "nbformat_minor": 2
}
