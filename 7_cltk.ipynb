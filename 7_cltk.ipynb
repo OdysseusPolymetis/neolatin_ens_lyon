{
 "cells": [
  {
   "cell_type": "markdown",
   "id": "662368f9",
   "metadata": {},
   "source": [
    "<h1><center>CLTK</center></h1>"
   ]
  },
  {
   "cell_type": "code",
   "execution_count": null,
   "id": "fd68dc64",
   "metadata": {},
   "outputs": [],
   "source": [
    "import matplotlib.pyplot as plt\n",
    "plt.rcParams[\"figure.figsize\"] = [16,9]"
   ]
  },
  {
   "cell_type": "code",
   "execution_count": null,
   "id": "bdd66660",
   "metadata": {},
   "outputs": [],
   "source": [
    "from cltk.corpus.utils.importer import CorpusImporter\n",
    "my_greek_downloader = CorpusImporter('latin')\n",
    "my_greek_downloader.import_corpus('latin_models_cltk')\n",
    "from cltk.tokenize.word import WordTokenizer\n",
    "word_tokenizer = WordTokenizer('latin')\n",
    "athenaeus_word_tokens = word_tokenizer.tokenize(base_string)\n",
    "athenaeus_word_tokens = [token for token in athenaeus_word_tokens if token not in ['.', ',', ':', ';']]\n",
    "\n",
    "from cltk.stem.lemma import LemmaReplacer\n",
    "lemmatizer = LemmaReplacer('latin')\n",
    "lemmata = lemmatizer.lemmatize(athenaeus_word_tokens)"
   ]
  },
  {
   "cell_type": "code",
   "execution_count": null,
   "id": "639a29ae",
   "metadata": {},
   "outputs": [],
   "source": [
    "print(lemmata)"
   ]
  },
  {
   "cell_type": "code",
   "execution_count": null,
   "id": "3c195786",
   "metadata": {},
   "outputs": [],
   "source": [
    "from cltk.tag.pos import POSTag\n",
    "tagger = POSTag('latin')\n",
    "\n",
    "homer_lemmatized=\" \".join(lemmata)\n",
    "\n",
    "homer_tagged = tagger.tag_crf(homer_lemmatized)"
   ]
  },
  {
   "cell_type": "code",
   "execution_count": null,
   "id": "2d5f8311",
   "metadata": {},
   "outputs": [],
   "source": [
    "print(homer_tagged)"
   ]
  },
  {
   "cell_type": "code",
   "execution_count": null,
   "id": "2357b550",
   "metadata": {},
   "outputs": [],
   "source": [
    "nouns=0\n",
    "propers=0\n",
    "vbs=0\n",
    "adjs=0\n",
    "conjs=0\n",
    "    \n",
    "for element in homer_tagged :\n",
    "    print(element)\n",
    "    if element[1].startswith(\"N\") and element[0][0].isupper():\n",
    "        propers+=1\n",
    "    elif element[1].startswith(\"N\"):\n",
    "        nouns+=1\n",
    "    elif element[1].startswith(\"V\"):\n",
    "        vbs+=1\n",
    "    elif element[1].startswith(\"A\"):\n",
    "        adjs+=1\n",
    "    elif element[1].startswith(\"C\"):\n",
    "        conjs+=1"
   ]
  },
  {
   "cell_type": "code",
   "execution_count": null,
   "id": "47e1eb62",
   "metadata": {},
   "outputs": [],
   "source": [
    "total_len=nouns+vbs+adjs+conjs+propers\n",
    "nNames=(nouns*100)/total_len\n",
    "nVerbs=(vbs*100)/total_len\n",
    "nAdjectives=(adjs*100)/total_len\n",
    "nConj=(conjs*100)/total_len\n",
    "nPropers=(propers*100)/total_len\n",
    "parts=[nNames,nVerbs,nConj,nAdjectives,nPropers]"
   ]
  },
  {
   "cell_type": "code",
   "execution_count": null,
   "id": "fc460c69",
   "metadata": {},
   "outputs": [],
   "source": [
    "labels = 'Nouns','Verbs','Conjs','Adjectives','Proper Nouns'\n",
    "colors = ['gold', 'yellowgreen', 'lightcoral', 'lightskyblue','orange']\n",
    "explode = (0.1, 0, 0,0,0 )\n",
    "plt.pie(parts, explode=explode, labels=labels, colors=colors,\n",
    "        autopct='%1.1f%%', shadow=True, startangle=140)\n",
    "plt.axis('equal')\n",
    "plt.show()"
   ]
  }
 ],
 "metadata": {
  "kernelspec": {
   "display_name": "Python 3",
   "language": "python",
   "name": "python3"
  },
  "language_info": {
   "codemirror_mode": {
    "name": "ipython",
    "version": 3
   },
   "file_extension": ".py",
   "mimetype": "text/x-python",
   "name": "python",
   "nbconvert_exporter": "python",
   "pygments_lexer": "ipython3",
   "version": "3.7.6"
  }
 },
 "nbformat": 4,
 "nbformat_minor": 5
}
