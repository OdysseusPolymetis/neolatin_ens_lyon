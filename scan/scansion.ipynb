{
 "cells": [
  {
   "cell_type": "markdown",
   "metadata": {},
   "source": [
    "<center> <h1>Scansion</h1> </center>"
   ]
  },
  {
   "cell_type": "markdown",
   "metadata": {},
   "source": [
    "Ce script sert à scander à la fois la prose grecque et les hexamètres homériques. La scansion a l'air efficace, et le script est basé sur les travaux de <a href=\"https://github.com/epilanthanomai/hexameter\">Hope Ranker</a>."
   ]
  },
  {
   "cell_type": "code",
   "execution_count": 1,
   "metadata": {},
   "outputs": [],
   "source": [
    "from cltk.prosody.greek.scanner import Scansion"
   ]
  },
  {
   "cell_type": "code",
   "execution_count": 2,
   "metadata": {},
   "outputs": [],
   "source": [
    "import scan"
   ]
  },
  {
   "cell_type": "code",
   "execution_count": 3,
   "metadata": {},
   "outputs": [],
   "source": [
    "from cltk.corpus.greek.beta_to_unicode import Replacer"
   ]
  },
  {
   "cell_type": "code",
   "execution_count": 4,
   "metadata": {},
   "outputs": [],
   "source": [
    "from lxml import etree as ET"
   ]
  },
  {
   "cell_type": "code",
   "execution_count": 5,
   "metadata": {},
   "outputs": [],
   "source": [
    "import lxml.html"
   ]
  },
  {
   "cell_type": "code",
   "execution_count": 6,
   "metadata": {},
   "outputs": [],
   "source": [
    "import glob"
   ]
  },
  {
   "cell_type": "code",
   "execution_count": 7,
   "metadata": {},
   "outputs": [],
   "source": [
    "from collections import defaultdict"
   ]
  },
  {
   "cell_type": "code",
   "execution_count": 8,
   "metadata": {},
   "outputs": [],
   "source": [
    "scanner = Scansion()"
   ]
  },
  {
   "cell_type": "code",
   "execution_count": 9,
   "metadata": {},
   "outputs": [],
   "source": [
    "def list_duplicates(seq):\n",
    "    tally = defaultdict(list)\n",
    "    for i,item in enumerate(seq):\n",
    "        tally[item].append(i)\n",
    "    return ((key,locs) for key,locs in tally.items() \n",
    "                            if len(locs)>1)"
   ]
  },
  {
   "cell_type": "code",
   "execution_count": 10,
   "metadata": {},
   "outputs": [],
   "source": [
    "directory='./txt'"
   ]
  },
  {
   "cell_type": "code",
   "execution_count": 11,
   "metadata": {},
   "outputs": [],
   "source": [
    "r = Replacer()"
   ]
  },
  {
   "cell_type": "markdown",
   "metadata": {},
   "source": [
    "## Prosodie simple"
   ]
  },
  {
   "cell_type": "code",
   "execution_count": 14,
   "metadata": {},
   "outputs": [
    {
     "name": "stdout",
     "output_type": "stream",
     "text": [
      "\n",
      "\n",
      "./txt/hom.il_gk.xml\n",
      "Le texte comporte 15683 vers\n",
      "\n",
      "\n",
      "Activez le print suivant si vous souhaitez voir les scansions les plus fréquentes et leurs index.\n",
      "\n",
      "\n",
      "Vous pouvez vérifier les scansions du texte après un premier tour, avec les index donnés.\n",
      "pour l'indice 0 :\n",
      "['μῆνιν ἄειδε θεὰ Πηληϊάδεω Ἀχιλῆος.', '¯˘˘¯˘˘˘¯¯˘˘¯˘˘¯x']\n",
      "pour l'indice 805 :\n",
      "['μή τι χολωσάμενος ῥέξῃ κακὸν υἷας Ἀχαιῶν·.', '¯˘˘¯˘˘˘¯¯˘˘¯˘˘¯x']\n",
      "pour l'indice 939 :\n",
      "['τῷ δεκάτῳ δὲ πόλιν αἱρήσομεν εὐρυάγυιαν..', '¯˘˘¯˘˘˘¯¯˘˘¯˘˘¯x']\n",
      "pour l'indice 1149 :\n",
      "['οἵ τε Κάρυστον ἔχον ἠδ’ οἳ Στύρα ναιετάασκον,.', '¯˘˘¯˘˘˘¯¯˘˘¯˘˘¯x']\n",
      "pour l'indice 604 :\n",
      "['αὐτὰρ ἐπεὶ κατέδυ λαμπρὸν φάος ἠελίοιο,.', '¯˘˘¯˘˘˘¯¯˘˘¯˘˘¯x']\n",
      "pour l'indice 1117 :\n",
      "['οἵ τε πολυστάφυλον Ἄρνην ἔχον, οἵ τε Μίδειαν.', '¯˘˘¯˘˘˘¯¯˘˘¯˘˘¯x']\n",
      "\n",
      "\n",
      "./txt/hh_gk.xml\n",
      "Le texte comporte 2343 vers\n",
      "\n",
      "\n",
      "Activez le print suivant si vous souhaitez voir les scansions les plus fréquentes et leurs index.\n",
      "\n",
      "\n",
      "Vous pouvez vérifier les scansions du texte après un premier tour, avec les index donnés.\n",
      "pour l'indice 0 :\n",
      "['οἳ μὲν γὰρ Δρακάνῳ ς’, οἳ δ’ Ἰκάρῳ ἠνεμοέσσῃ.', '¯¯¯˘˘¯¯˘˘¯¯˘˘¯x']\n",
      "pour l'indice 805 :\n",
      "['νηὸν ποιήσασθαι ἐπήρατον εἶπέ τε μῦθον·.', '¯¯¯¯¯¯˘¯˘˘¯˘˘¯x']\n",
      "pour l'indice 939 :\n",
      "['ἢ εἰς οἶδμ’ ἅλιον πολυΐχθυον αὖτις ὀρούσει..', '¯¯¯˘˘¯˘˘˘¯¯˘˘¯x']\n",
      "pour l'indice 1149 :\n",
      "['τὰς δ’ ὄπιθεν πρόσθεν· κατὰ δ’ ἔμπαλιν αὐτὸς ἔβαινε..', '˘˘˘¯¯x˘˘¯˘˘¯˘¯¯x']\n",
      "pour l'indice 604 :\n",
      "['καὶ τὸ κατειβόμενον Στυγὸς ὕδωρ,  ὅστε μέγιστος.', '¯˘˘¯˘˘¯˘˘˘¯¯˘˘¯x']\n",
      "pour l'indice 1117 :\n",
      "['ὣς ἅμ’ ἔπος τε καὶ ἔργον ἐμήδετο κύδιμος Ἑρμῆς..', '¯˘˘¯˘¯˘˘˘¯˘˘˘˘˘˘x']\n",
      "\n",
      "\n",
      "./txt/hom.od_gk.xml\n",
      "Le texte comporte 12107 vers\n",
      "\n",
      "\n",
      "Activez le print suivant si vous souhaitez voir les scansions les plus fréquentes et leurs index.\n",
      "\n",
      "\n",
      "Vous pouvez vérifier les scansions du texte après un premier tour, avec les index donnés.\n",
      "pour l'indice 0 :\n",
      "['ἄνδρα μοι ἔννεπε, μοῦσα, πολύτροπον, ὃς μάλα πολλὰ.', '¯˘¯¯˘˘¯˘˘˘˘˘¯˘˘˘x']\n",
      "pour l'indice 805 :\n",
      "['καί ῥ’ ὀλοφυρομένη ἔπεα πτερόεντα προσηύδα·.', '¯˘˘˘˘˘¯˘˘˘˘˘˘˘˘¯˘x']\n",
      "pour l'indice 939 :\n",
      "['ὣς ἄρ’ ἔπειτ’ ἠρᾶτο καὶ αὐτὴ πάντα τελεύτα..', '¯˘˘˘¯¯˘¯¯¯¯˘˘¯x']\n",
      "pour l'indice 1149 :\n",
      "['τὴν δ’ ἐθέλων ἐθέλουσαν ἀνήγαγεν ὅνδε δόμονδε..', '¯˘˘¯˘˘¯˘˘¯˘˘¯˘˘¯x']\n",
      "pour l'indice 604 :\n",
      "['κέκλυτε δὴ νῦν μευ, Ἰθακήσιοι, ὅττι κεν εἴπω·.', '˘˘˘¯¯¯˘˘¯˘¯˘˘˘¯x']\n",
      "pour l'indice 1117 :\n",
      "['Μέντορ,  μηκέτι ταῦτα λεγώμεθα κηδόμενοί περ·.', '¯¯¯˘˘¯˘˘¯¯˘¯˘¯¯x']\n"
     ]
    }
   ],
   "source": [
    "files= glob.iglob(directory+'/**/*gk.xml', recursive=True)\n",
    "for filename in files :\n",
    "    print(\"\\n\")\n",
    "    print(filename)\n",
    "    p = ET.XMLParser(remove_blank_text=True, resolve_entities=False)\n",
    "    tree = ET.parse(filename,p)\n",
    "    line_elements = tree.findall(\".//l\")\n",
    "    lines=list()\n",
    "    print(\"Le texte comporte \"+str(len(line_elements))+\" vers\")\n",
    "    print(\"\\n\")\n",
    "    \n",
    "    couples=list()\n",
    "    scans=list()\n",
    "    for line_element in line_elements:\n",
    "        line=lxml.html.tostring(line_element, method=\"text\", encoding=\"utf8\").decode()+\".\"\n",
    "        lines.append(r.beta_code(line))\n",
    "        couple=[r.beta_code(line),\"\".join(scanner.scan_text(r.beta_code(line)))]\n",
    "        scans.append(\"\".join(scanner.scan_text(r.beta_code(line))))\n",
    "        couples.append(couple)\n",
    "    temp=dict(list_duplicates(scans))\n",
    "    echos=({k: v for k, v in sorted(temp.items(), key=lambda item: len(item[1]), reverse=True)})\n",
    "    \n",
    "    print(\"Activez le print suivant si vous souhaitez voir les scansions les plus fréquentes et leurs index.\")\n",
    "    #print(echos)\n",
    "    print(\"\\n\")\n",
    "    \n",
    "    print(\"Vous pouvez vérifier les scansions du texte après un premier tour, avec les index donnés.\")\n",
    "    indices_to_test={0, 604, 805,939, 1117, 1149}\n",
    "    for index in indices_to_test:\n",
    "        print(\"pour l'indice \"+str(index)+\" :\")\n",
    "        print(couples[index])"
   ]
  },
  {
   "cell_type": "markdown",
   "metadata": {},
   "source": [
    "## Hexamètres"
   ]
  },
  {
   "cell_type": "code",
   "execution_count": 15,
   "metadata": {},
   "outputs": [
    {
     "name": "stdout",
     "output_type": "stream",
     "text": [
      "\n",
      "\n",
      "./txt/hom.il_gk.xml\n",
      "Le texte comporte 15683 vers.\n",
      "\n",
      "\n",
      "Il y a 126 vers non scandés, sur 15683 vers.\n",
      "Activez le print suivant si vous souhaitez voir les scansions les plus fréquentes et leurs index.\n",
      "\n",
      "\n",
      "Vous pouvez vérifier les scansions du texte après un premier tour, avec les index donnés.\n",
      "pour l'indice 0 :\n",
      "[('μῆνιν ἄειδε θεὰ ', 'πηληϊάδεω ἀχιλῆος'), '+--|+--|++|+--|.+--|++']\n",
      "pour l'indice 9866 :\n",
      "[('ἐν χορῷ ἀρτέμιδος ', 'χρυσηλακάτου κελαδεινῆς.'), '+--|+--|++|+--|+--|++']\n",
      "pour l'indice 9653 :\n",
      "[('ἕκτωρ δὲ πρύμνηθεν ', 'ἐπεὶ λάβεν οὐχὶ μεθίει'), '++|++|+--|+--|+--|++']\n",
      "pour l'indice 6811 :\n",
      "[('πάννυχοι ἐγρήσσοντες· ', 'ὃ δὲ κρειῶν ἐρατίζων'), '+--|++|+--|++|+--|++']\n",
      "pour l'indice 8028 :\n",
      "[('ὄφρα ἴδῃ οἷος ', 'ζηνὸς γόνος ἐνθάδ’ ἱκάνω,'), '+--|++|++|+--|+--|++']\n",
      "[('ἔπλετο· τοῖος γὰρ ', 'γαιήοχος ἐννοσίγαιος'), '+--|++|++|+--|+--|++']\n",
      "\n",
      "\n",
      "./txt/hh_gk.xml\n",
      "Le texte comporte 2343 vers.\n",
      "\n",
      "\n",
      "Il y a 18 vers non scandés, sur 2343 vers.\n",
      "Activez le print suivant si vous souhaitez voir les scansions les plus fréquentes et leurs index.\n",
      "\n",
      "\n",
      "Vous pouvez vérifier les scansions du texte après un premier tour, avec les index donnés.\n",
      "pour l'indice 0 :\n",
      "[('οἳ μὲν γὰρ δρακάνῳ ', 'ς’, οἳ δ’ ἰκάρῳ ἠνεμοέσσῃ'), '++|+--|++|+--|+--|++']\n",
      "\n",
      "\n",
      "./txt/hom.od_gk.xml\n",
      "Le texte comporte 12107 vers.\n",
      "\n",
      "\n",
      "Il y a 74 vers non scandés, sur 12107 vers.\n",
      "Activez le print suivant si vous souhaitez voir les scansions les plus fréquentes et leurs index.\n",
      "\n",
      "\n",
      "Vous pouvez vérifier les scansions du texte après un premier tour, avec les index donnés.\n",
      "pour l'indice 0 :\n",
      "[('ἄνδρα μοι ἔννεπε, μοῦσα, ', 'πολύτροπον, ὃς μάλα πολλὰ'), '+--|+--|+--|+--|+--|++']\n",
      "pour l'indice 9866 :\n",
      "[('ἀλλήλῃσι γέλω ', 'τε καὶ εὐφροσύνην παρέχουσαι.'), '++|+--|+--|+--|+--|++']\n",
      "pour l'indice 9653 :\n",
      "[('αὐτόλυκος δ’ ἐλθὼν ', 'ἰθάκης ἐς πίονα δῆμον'), '+--|++|+--|++|+--|++']\n",
      "pour l'indice 6811 :\n",
      "[('τοῦδ’ αὐτοῦ λυκάβαντος ', 'ἐλεύσεται ἐνθάδ’ ὀδυσσεύς.'), '++|+--|+--|+--|+--|++']\n",
      "pour l'indice 8028 :\n",
      "[('οἷά ποτε τροίηνδε ', 'κιὼν κατέλειπεν ὀδυσσεύς,'), '+--|++|+--|+--|+--|++']\n",
      "[('ἡ δ’ ἴεν ἐκ θαλάμοιο ', 'περίφρων πηνελόπεια,'), '+--|+--|+--|++|+--|++']\n"
     ]
    }
   ],
   "source": [
    "files= glob.iglob(directory+'/**/*gk.xml', recursive=True)\n",
    "for filename in files :\n",
    "    print(\"\\n\")\n",
    "    print(filename)\n",
    "    p = ET.XMLParser(remove_blank_text=True, resolve_entities=False)\n",
    "    tree = ET.parse(filename,p)\n",
    "    line_elements = tree.findall(\".//l\")\n",
    "    lines=list()\n",
    "    print(\"Le texte comporte \"+str(len(line_elements))+\" vers.\")\n",
    "    print(\"\\n\")\n",
    "    unscanned=0\n",
    "    \n",
    "    couples=list()\n",
    "    scans=list()\n",
    "    for line_element in line_elements:\n",
    "        line=lxml.html.tostring(line_element, method=\"text\", encoding=\"utf8\").decode()\n",
    "        lines.append(r.beta_code(line))\n",
    "        if len(scan.analyze_line(r.beta_code(line)))>0:\n",
    "            couple=[scan.analyze_line(r.beta_code(line))[0][1],scan.analyze_line(r.beta_code(line))[0][0]]\n",
    "            scans.append(scan.analyze_line(r.beta_code(line))[0][0])\n",
    "        else:\n",
    "            couple=[r.beta_code(line),\"\"]\n",
    "            unscanned+=1\n",
    "        \n",
    "        couples.append(couple)\n",
    "    \n",
    "    print(\"Il y a \"+str(unscanned)+\" vers non scandés, sur \"+str(len(line_elements))+\" vers.\")\n",
    "    \n",
    "    temp=dict(list_duplicates(scans))\n",
    "    echos=({k: v for k, v in sorted(temp.items(), key=lambda item: len(item[1]), reverse=True)})\n",
    "    \n",
    "    print(\"Activez le print suivant si vous souhaitez voir les scansions les plus fréquentes et leurs index.\")\n",
    "    #print(echos)\n",
    "    print(\"\\n\")\n",
    "    \n",
    "    print(\"Vous pouvez vérifier les scansions du texte après un premier tour, avec les index donnés.\")\n",
    "    # Ici je teste sur l'Iliade\n",
    "    indices_to_test={0, 6811, 8028,9653, 9866}\n",
    "    for index in indices_to_test:\n",
    "        if index < len(line_elements):\n",
    "            print(\"pour l'indice \"+str(index)+\" :\")\n",
    "            print(couples[index])\n",
    "\n",
    "# J'ai vérifié pour le vers XVII 36 de l'Odyssée\n",
    "    if 8256 < len(line_elements):\n",
    "        print(couples[8256])"
   ]
  },
  {
   "cell_type": "markdown",
   "metadata": {},
   "source": [
    "<h1>Prosodie latine</h1>"
   ]
  },
  {
   "cell_type": "code",
   "execution_count": 16,
   "metadata": {},
   "outputs": [
    {
     "data": {
      "text/plain": [
       "['-uuu-uuu-u--x', 'uu-uu-uu----x']"
      ]
     },
     "execution_count": 16,
     "metadata": {},
     "output_type": "execute_result"
    }
   ],
   "source": [
    "from cltk.prosody.latin.scanner import Scansion\n",
    "\n",
    "scanner = Scansion()\n",
    "\n",
    "text = 'quō usque tandem abūtēre, Catilīna, patientiā nostrā. quam diū etiam furor iste tuus nōs ēlūdet.'\n",
    "scanner.scan_text(text)"
   ]
  },
  {
   "cell_type": "markdown",
   "metadata": {},
   "source": [
    "<h1>Hexamètres latins</h1>"
   ]
  },
  {
   "cell_type": "code",
   "execution_count": 17,
   "metadata": {},
   "outputs": [
    {
     "data": {
      "text/plain": [
       "Verse(original='impulerit. Tantaene animis caelestibus irae?', scansion='-  U U -    -   -   U U -    - -  U U  -  - ', meter='hexameter', valid=True, syllable_count=15, accented='īmpulerīt. Tāntaene animīs caelēstibus īrae?', scansion_notes=['Valid by positional stresses.'], syllables = ['īm', 'pu', 'le', 'rīt', 'Tān', 'taen', 'a', 'ni', 'mīs', 'cae', 'lēs', 'ti', 'bus', 'i', 'rae'])"
      ]
     },
     "execution_count": 17,
     "metadata": {},
     "output_type": "execute_result"
    }
   ],
   "source": [
    "from cltk.prosody.latin.hexameter_scanner import HexameterScanner\n",
    "\n",
    "scanner = HexameterScanner()\n",
    "\n",
    "scanner.scan(\"impulerit. Tantaene animis caelestibus irae?\")"
   ]
  },
  {
   "cell_type": "markdown",
   "metadata": {},
   "source": [
    "<h1>Pentamètres latins</h1>"
   ]
  },
  {
   "cell_type": "code",
   "execution_count": 19,
   "metadata": {},
   "outputs": [
    {
     "data": {
      "text/plain": [
       "Verse(original='ex hoc ingrato gaudia amore tibi.', scansion='-   -  -   - -   - U  U - U  U U ', meter='pentameter', valid=True, syllable_count=12, accented='ēx hōc īngrātō gaudia amōre tibi.', scansion_notes=['Spondaic pentameter'], syllables = ['ēx', 'hoc', 'īn', 'gra', 'to', 'gau', 'di', 'a', 'mo', 're', 'ti', 'bi'])"
      ]
     },
     "execution_count": 19,
     "metadata": {},
     "output_type": "execute_result"
    }
   ],
   "source": [
    "from cltk.prosody.latin.pentameter_scanner import PentameterScanner\n",
    "\n",
    "scanner = PentameterScanner()\n",
    "\n",
    "scanner.scan(\"ex hoc ingrato gaudia amore tibi.\")"
   ]
  },
  {
   "cell_type": "code",
   "execution_count": null,
   "metadata": {},
   "outputs": [],
   "source": []
  }
 ],
 "metadata": {
  "kernelspec": {
   "display_name": "Python 3",
   "language": "python",
   "name": "python3"
  },
  "language_info": {
   "codemirror_mode": {
    "name": "ipython",
    "version": 3
   },
   "file_extension": ".py",
   "mimetype": "text/x-python",
   "name": "python",
   "nbconvert_exporter": "python",
   "pygments_lexer": "ipython3",
   "version": "3.7.6"
  }
 },
 "nbformat": 4,
 "nbformat_minor": 2
}
