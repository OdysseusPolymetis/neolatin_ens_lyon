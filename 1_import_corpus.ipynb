{
 "cells": [
  {
   "cell_type": "markdown",
   "metadata": {},
   "source": [
    "Pour commencer, ouvrez un terminal et lancez <b>Jupyter Notebook"
   ]
  },
  {
   "cell_type": "markdown",
   "metadata": {},
   "source": [
    "# Les corpus disponibles\n",
    "\n",
    "Nous devons d'abord importer la bonne partie de la bibliothèque CLTK. Comme vous choisiriez un ouvrage dans une bibliothèque en fonction de votre sujet d'étude."
   ]
  },
  {
   "cell_type": "code",
   "execution_count": 1,
   "metadata": {},
   "outputs": [],
   "source": [
    "# C'est ici qu'on fait cet import\n",
    "\n",
    "from cltk.data.fetch import FetchCorpus"
   ]
  },
  {
   "cell_type": "code",
   "execution_count": 2,
   "metadata": {},
   "outputs": [],
   "source": [
    "# voir https://github.com/cltk pour tous les corpus officiels disponibles\n",
    "\n",
    "corpus_downloader = FetchCorpus(language=\"lat\")\n",
    "\n",
    "# Maintenant 'my_latin_downloader' est la variable grâce à laquelle nous appelons le CorpusInterpreter"
   ]
  },
  {
   "cell_type": "code",
   "execution_count": 3,
   "metadata": {},
   "outputs": [
    {
     "data": {
      "text/plain": [
       "['lat_text_perseus',\n",
       " 'lat_treebank_perseus',\n",
       " 'lat_text_latin_library',\n",
       " 'phi5',\n",
       " 'phi7',\n",
       " 'latin_proper_names_cltk',\n",
       " 'lat_models_cltk',\n",
       " 'latin_pos_lemmata_cltk',\n",
       " 'latin_treebank_index_thomisticus',\n",
       " 'latin_lexica_perseus',\n",
       " 'latin_training_set_sentence_cltk',\n",
       " 'latin_word2vec_cltk',\n",
       " 'latin_text_antique_digiliblt',\n",
       " 'latin_text_corpus_grammaticorum_latinorum',\n",
       " 'latin_text_poeti_ditalia',\n",
       " 'lat_text_tesserae',\n",
       " 'cltk_lat_lewis_elementary_lexicon']"
      ]
     },
     "execution_count": 3,
     "metadata": {},
     "output_type": "execute_result"
    }
   ],
   "source": [
    "corpus_downloader.list_corpora"
   ]
  },
  {
   "cell_type": "markdown",
   "metadata": {},
   "source": [
    "# Importer plusieurs corpus"
   ]
  },
  {
   "cell_type": "code",
   "execution_count": 4,
   "metadata": {
    "scrolled": true
   },
   "outputs": [
    {
     "name": "stdout",
     "output_type": "stream",
     "text": [
      "Downloaded 100% 19.64 MiB | 1.79 MiB/s \r"
     ]
    }
   ],
   "source": [
    "corpus_downloader.import_corpus(\"lat_text_tesserae\")"
   ]
  },
  {
   "cell_type": "markdown",
   "metadata": {},
   "source": [
    "Vous pouvez vérifier dans un terminal que vous avez bien importé les corpus avec la commande suivante : `$ ls -l ~/cltk_data/latin/text/latin_text_latin_library/`"
   ]
  },
  {
   "cell_type": "markdown",
   "metadata": {},
   "source": [
    "# Pareil pour le grec"
   ]
  },
  {
   "cell_type": "code",
   "execution_count": 5,
   "metadata": {},
   "outputs": [
    {
     "data": {
      "text/plain": [
       "['grc_software_tlgu',\n",
       " 'grc_text_perseus',\n",
       " 'phi7',\n",
       " 'tlg',\n",
       " 'greek_proper_names_cltk',\n",
       " 'grc_models_cltk',\n",
       " 'greek_treebank_perseus',\n",
       " 'greek_treebank_gorman',\n",
       " 'greek_lexica_perseus',\n",
       " 'greek_training_set_sentence_cltk',\n",
       " 'greek_word2vec_cltk',\n",
       " 'greek_text_lacus_curtius',\n",
       " 'grc_text_first1kgreek',\n",
       " 'grc_text_tesserae']"
      ]
     },
     "execution_count": 5,
     "metadata": {},
     "output_type": "execute_result"
    }
   ],
   "source": [
    "# Même processus ici\n",
    "\n",
    "my_greek_downloader = FetchCorpus(language=\"grc\")\n",
    "#my_greek_downloader.import_corpus('greek_text_lacus_curtius')\n",
    "my_greek_downloader.list_corpora"
   ]
  },
  {
   "cell_type": "code",
   "execution_count": 6,
   "metadata": {},
   "outputs": [
    {
     "name": "stdout",
     "output_type": "stream",
     "text": [
      "Downloaded 100% 182.99 MiB | 2.61 MiB/s \r"
     ]
    }
   ],
   "source": [
    "my_greek_downloader.import_corpus('grc_text_first1kgreek')"
   ]
  },
  {
   "cell_type": "markdown",
   "metadata": {},
   "source": [
    "là encore on peut vérifier avec cette commande : `ls -l ~/cltk_data/greek/text/greek_text_lacus_curtius/plain/`"
   ]
  }
 ],
 "metadata": {
  "kernelspec": {
   "display_name": "Python 3",
   "language": "python",
   "name": "python3"
  },
  "language_info": {
   "codemirror_mode": {
    "name": "ipython",
    "version": 3
   },
   "file_extension": ".py",
   "mimetype": "text/x-python",
   "name": "python",
   "nbconvert_exporter": "python",
   "pygments_lexer": "ipython3",
   "version": "3.7.10"
  }
 },
 "nbformat": 4,
 "nbformat_minor": 1
}
